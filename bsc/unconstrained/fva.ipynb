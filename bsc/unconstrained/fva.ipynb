{
 "cells": [
  {
   "cell_type": "code",
   "execution_count": 1,
   "id": "b461770b",
   "metadata": {},
   "outputs": [],
   "source": [
    "import cobra"
   ]
  },
  {
   "cell_type": "code",
   "execution_count": null,
   "id": "ef48baeb",
   "metadata": {},
   "outputs": [],
   "source": [
    "import numpy"
   ]
  },
  {
   "cell_type": "code",
   "execution_count": null,
   "id": "8d1f8354",
   "metadata": {},
   "outputs": [],
   "source": [
    "import matplotlib, matplotlib.pyplot\n",
    "matplotlib.rcParams.update({'font.size':20, 'font.family':'FreeSans', 'xtick.labelsize':20, 'ytick.labelsize':20, 'figure.figsize':(8, 4)})"
   ]
  },
  {
   "cell_type": "markdown",
   "id": "4ed2f854",
   "metadata": {},
   "source": [
    "# 0. user-defined variables"
   ]
  },
  {
   "cell_type": "code",
   "execution_count": 2,
   "id": "3bb60219",
   "metadata": {},
   "outputs": [],
   "source": [
    "model_file = '/Users/adrian/projects/riia/data/model/Recon3DModel_301.mat'"
   ]
  },
  {
   "cell_type": "code",
   "execution_count": 3,
   "id": "8ba8ad6e",
   "metadata": {},
   "outputs": [
    {
     "data": {
      "text/html": [
       "\n",
       "<table>\n",
       "  <thead>\n",
       "    <tr>\n",
       "      <td><strong>Attribute</strong></td>\n",
       "      <td><strong>Description</strong></td>\n",
       "      <td><strong>Value</strong></td>\n",
       "    </tr>\n",
       "  </thead>\n",
       "  <tbody>\n",
       "    <tr>\n",
       "      <td><pre>solver</pre></td>\n",
       "      <td>Mathematical optimization solver</td>\n",
       "      <td>glpk</td>\n",
       "    </tr>\n",
       "    <tr>\n",
       "        <td><pre>tolerance</pre></td>\n",
       "        <td>General solver tolerance (feasibility, integrality, etc.)</td>\n",
       "        <td>1e-07</td>\n",
       "    </tr>\n",
       "    <tr>\n",
       "        <td><pre>lower_bound</pre></td>\n",
       "        <td>Default reaction lower bound</td>\n",
       "        <td>-1000.0</td>\n",
       "    </tr>\n",
       "    <tr>\n",
       "        <td><pre>upper_bound</pre></td>\n",
       "        <td>Default reaction upper bound</td>\n",
       "        <td>1000.0</td>\n",
       "    </tr>\n",
       "    <tr>\n",
       "        <td><pre>processes</pre></td>\n",
       "        <td>Number of parallel processes</td>\n",
       "        <td>8</td>\n",
       "    </tr>\n",
       "    <tr>\n",
       "        <td><pre>cache_directory</pre></td>\n",
       "        <td>Path for the model cache</td>\n",
       "        <td>/Users/adrian/Library/Caches/cobrapy</td>\n",
       "    </tr>\n",
       "    <tr>\n",
       "        <td><pre>max_cache_size</pre></td>\n",
       "        <td>Maximum cache size in bytes</td>\n",
       "        <td>104857600</td>\n",
       "    </tr>\n",
       "    <tr>\n",
       "        <td><pre>cache_expiration</pre></td>\n",
       "        <td>Model cache expiration time in seconds (if any)</td>\n",
       "        <td>None</td>\n",
       "    </tr>\n",
       "  </tbody>\n",
       "</table>\n"
      ],
      "text/plain": [
       "\n",
       "solver: glpk\n",
       "tolerance: 1e-07\n",
       "lower_bound: -1000.0\n",
       "upper_bound: 1000.0\n",
       "processes: 8\n",
       "cache_directory: /Users/adrian/Library/Caches/cobrapy\n",
       "max_cache_size: 104857600\n",
       "cache_expiration: None"
      ]
     },
     "execution_count": 3,
     "metadata": {},
     "output_type": "execute_result"
    }
   ],
   "source": [
    "cobra_config = cobra.Configuration()\n",
    "cobra_config.processes = 8\n",
    "cobra.Configuration()"
   ]
  },
  {
   "cell_type": "markdown",
   "id": "5776d32d",
   "metadata": {},
   "source": [
    "# 1. load model"
   ]
  },
  {
   "cell_type": "code",
   "execution_count": 4,
   "id": "467e7ba9",
   "metadata": {},
   "outputs": [
    {
     "name": "stdout",
     "output_type": "stream",
     "text": [
      "CPU times: user 3min, sys: 725 ms, total: 3min 1s\n",
      "Wall time: 3min 3s\n"
     ]
    }
   ],
   "source": [
    "%%time\n",
    "model = cobra.io.load_matlab_model(model_file)"
   ]
  },
  {
   "cell_type": "code",
   "execution_count": 5,
   "id": "7db58580",
   "metadata": {},
   "outputs": [
    {
     "data": {
      "text/html": [
       "\n",
       "        <table>\n",
       "            <tr>\n",
       "                <td><strong>Name</strong></td>\n",
       "                <td>Recon3DModel</td>\n",
       "            </tr><tr>\n",
       "                <td><strong>Memory address</strong></td>\n",
       "                <td>0x07fa8a86c20a0</td>\n",
       "            </tr><tr>\n",
       "                <td><strong>Number of metabolites</strong></td>\n",
       "                <td>5835</td>\n",
       "            </tr><tr>\n",
       "                <td><strong>Number of reactions</strong></td>\n",
       "                <td>10600</td>\n",
       "            </tr><tr>\n",
       "                <td><strong>Number of groups</strong></td>\n",
       "                <td>0</td>\n",
       "            </tr><tr>\n",
       "                <td><strong>Objective expression</strong></td>\n",
       "                <td>1.0*biomass_maintenance - 1.0*biomass_maintenance_reverse_95d2f</td>\n",
       "            </tr><tr>\n",
       "                <td><strong>Compartments</strong></td>\n",
       "                <td>c, l, m, r, e, x, n, g, i</td>\n",
       "            </tr>\n",
       "          </table>"
      ],
      "text/plain": [
       "<Model Recon3DModel at 0x7fa8a86c20a0>"
      ]
     },
     "execution_count": 5,
     "metadata": {},
     "output_type": "execute_result"
    }
   ],
   "source": [
    "model"
   ]
  },
  {
   "cell_type": "markdown",
   "id": "702eabc0",
   "metadata": {},
   "source": [
    "# 2. FVA"
   ]
  },
  {
   "cell_type": "code",
   "execution_count": 6,
   "id": "ed9aa1c3",
   "metadata": {},
   "outputs": [
    {
     "name": "stdout",
     "output_type": "stream",
     "text": [
      "CPU times: user 3.71 s, sys: 932 ms, total: 4.64 s\n",
      "Wall time: 2min 47s\n"
     ]
    }
   ],
   "source": [
    "%%time\n",
    "results = cobra.flux_analysis.flux_variability_analysis(model, model.reactions[:80], fraction_of_optimum=0.9, loopless=True)"
   ]
  },
  {
   "cell_type": "markdown",
   "id": "eb454158",
   "metadata": {},
   "source": [
    "# 3. plot results"
   ]
  },
  {
   "cell_type": "code",
   "execution_count": null,
   "id": "1934bcea",
   "metadata": {},
   "outputs": [],
   "source": [
    "ratios = []\n",
    "for reaction in model.reactions:\n",
    "    \n",
    "    observed_flux = numpy.abs(reaction.flux)\n",
    "    max_flux_allowed = numpy.max([numpy.abs(reaction.lower_bound), numpy.abs(reaction.upper_bound)])\n",
    "    saturation_ratio = observed_flux / max_flux_allowed\n",
    "    ratios.append(saturation_ratio)"
   ]
  },
  {
   "cell_type": "code",
   "execution_count": null,
   "id": "5823d567",
   "metadata": {},
   "outputs": [],
   "source": []
  },
  {
   "cell_type": "code",
   "execution_count": null,
   "id": "477d239d",
   "metadata": {},
   "outputs": [],
   "source": []
  }
 ],
 "metadata": {
  "kernelspec": {
   "display_name": "Python 3",
   "language": "python",
   "name": "python3"
  },
  "language_info": {
   "codemirror_mode": {
    "name": "ipython",
    "version": 3
   },
   "file_extension": ".py",
   "mimetype": "text/x-python",
   "name": "python",
   "nbconvert_exporter": "python",
   "pygments_lexer": "ipython3",
   "version": "3.8.10"
  }
 },
 "nbformat": 4,
 "nbformat_minor": 5
}
