{
 "cells": [
  {
   "cell_type": "code",
   "execution_count": 1,
   "id": "b461770b",
   "metadata": {},
   "outputs": [],
   "source": [
    "import cobra, numpy"
   ]
  },
  {
   "cell_type": "markdown",
   "id": "4ed2f854",
   "metadata": {},
   "source": [
    "# 0. user-defined variables"
   ]
  },
  {
   "cell_type": "code",
   "execution_count": 2,
   "id": "3bb60219",
   "metadata": {},
   "outputs": [],
   "source": [
    "model_file = '/Users/adrian/projects/hpc/data/Recon3DModel_301.mat'"
   ]
  },
  {
   "cell_type": "code",
   "execution_count": 3,
   "id": "8ba8ad6e",
   "metadata": {},
   "outputs": [
    {
     "data": {
      "text/html": [
       "\n",
       "<table>\n",
       "  <thead>\n",
       "    <tr>\n",
       "      <td><strong>Attribute</strong></td>\n",
       "      <td><strong>Description</strong></td>\n",
       "      <td><strong>Value</strong></td>\n",
       "    </tr>\n",
       "  </thead>\n",
       "  <tbody>\n",
       "    <tr>\n",
       "      <td><pre>solver</pre></td>\n",
       "      <td>Mathematical optimization solver</td>\n",
       "      <td>glpk</td>\n",
       "    </tr>\n",
       "    <tr>\n",
       "        <td><pre>tolerance</pre></td>\n",
       "        <td>General solver tolerance (feasibility, integrality, etc.)</td>\n",
       "        <td>1e-07</td>\n",
       "    </tr>\n",
       "    <tr>\n",
       "        <td><pre>lower_bound</pre></td>\n",
       "        <td>Default reaction lower bound</td>\n",
       "        <td>-1000.0</td>\n",
       "    </tr>\n",
       "    <tr>\n",
       "        <td><pre>upper_bound</pre></td>\n",
       "        <td>Default reaction upper bound</td>\n",
       "        <td>1000.0</td>\n",
       "    </tr>\n",
       "    <tr>\n",
       "        <td><pre>processes</pre></td>\n",
       "        <td>Number of parallel processes</td>\n",
       "        <td>8</td>\n",
       "    </tr>\n",
       "    <tr>\n",
       "        <td><pre>cache_directory</pre></td>\n",
       "        <td>Path for the model cache</td>\n",
       "        <td>/Users/adrian/Library/Caches/cobrapy</td>\n",
       "    </tr>\n",
       "    <tr>\n",
       "        <td><pre>max_cache_size</pre></td>\n",
       "        <td>Maximum cache size in bytes</td>\n",
       "        <td>104857600</td>\n",
       "    </tr>\n",
       "    <tr>\n",
       "        <td><pre>cache_expiration</pre></td>\n",
       "        <td>Model cache expiration time in seconds (if any)</td>\n",
       "        <td>None</td>\n",
       "    </tr>\n",
       "  </tbody>\n",
       "</table>\n"
      ],
      "text/plain": [
       "\n",
       "solver: glpk\n",
       "tolerance: 1e-07\n",
       "lower_bound: -1000.0\n",
       "upper_bound: 1000.0\n",
       "processes: 8\n",
       "cache_directory: /Users/adrian/Library/Caches/cobrapy\n",
       "max_cache_size: 104857600\n",
       "cache_expiration: None"
      ]
     },
     "execution_count": 3,
     "metadata": {},
     "output_type": "execute_result"
    }
   ],
   "source": [
    "cobra_config = cobra.Configuration()\n",
    "cobra_config.processes = 8\n",
    "cobra.Configuration()"
   ]
  },
  {
   "cell_type": "markdown",
   "id": "5776d32d",
   "metadata": {},
   "source": [
    "# 1. load model"
   ]
  },
  {
   "cell_type": "code",
   "execution_count": 4,
   "id": "467e7ba9",
   "metadata": {},
   "outputs": [],
   "source": [
    "model = cobra.io.load_matlab_model(model_file)"
   ]
  },
  {
   "cell_type": "markdown",
   "id": "562fb057",
   "metadata": {},
   "source": [
    "# 2. deletions"
   ]
  },
  {
   "cell_type": "markdown",
   "id": "838131c9",
   "metadata": {},
   "source": [
    "## 2.1. single"
   ]
  },
  {
   "cell_type": "code",
   "execution_count": 5,
   "id": "86809264",
   "metadata": {},
   "outputs": [
    {
     "name": "stdout",
     "output_type": "stream",
     "text": [
      "2248\n",
      "CPU times: user 2.95 s, sys: 618 ms, total: 3.57 s\n",
      "Wall time: 54.2 s\n"
     ]
    }
   ],
   "source": [
    "%%time\n",
    "print(len(model.genes))\n",
    "single_ko_results = cobra.flux_analysis.single_gene_deletion(model, model.genes)"
   ]
  },
  {
   "cell_type": "code",
   "execution_count": 6,
   "id": "60c35d27",
   "metadata": {},
   "outputs": [
    {
     "name": "stdout",
     "output_type": "stream",
     "text": [
      "(2248, 3)\n",
      "0.0 755.0032155506655\n"
     ]
    },
    {
     "data": {
      "text/html": [
       "<div>\n",
       "<style scoped>\n",
       "    .dataframe tbody tr th:only-of-type {\n",
       "        vertical-align: middle;\n",
       "    }\n",
       "\n",
       "    .dataframe tbody tr th {\n",
       "        vertical-align: top;\n",
       "    }\n",
       "\n",
       "    .dataframe thead th {\n",
       "        text-align: right;\n",
       "    }\n",
       "</style>\n",
       "<table border=\"1\" class=\"dataframe\">\n",
       "  <thead>\n",
       "    <tr style=\"text-align: right;\">\n",
       "      <th></th>\n",
       "      <th>ids</th>\n",
       "      <th>growth</th>\n",
       "      <th>status</th>\n",
       "    </tr>\n",
       "  </thead>\n",
       "  <tbody>\n",
       "    <tr>\n",
       "      <th>2075</th>\n",
       "      <td>{54675.1}</td>\n",
       "      <td>0.000000</td>\n",
       "      <td>optimal</td>\n",
       "    </tr>\n",
       "    <tr>\n",
       "      <th>1588</th>\n",
       "      <td>{1468.1}</td>\n",
       "      <td>663.411530</td>\n",
       "      <td>optimal</td>\n",
       "    </tr>\n",
       "    <tr>\n",
       "      <th>887</th>\n",
       "      <td>{8802.1}</td>\n",
       "      <td>674.472254</td>\n",
       "      <td>optimal</td>\n",
       "    </tr>\n",
       "    <tr>\n",
       "      <th>2022</th>\n",
       "      <td>{267020.1}</td>\n",
       "      <td>714.843470</td>\n",
       "      <td>optimal</td>\n",
       "    </tr>\n",
       "    <tr>\n",
       "      <th>1007</th>\n",
       "      <td>{10632.1}</td>\n",
       "      <td>714.843470</td>\n",
       "      <td>optimal</td>\n",
       "    </tr>\n",
       "  </tbody>\n",
       "</table>\n",
       "</div>"
      ],
      "text/plain": [
       "             ids      growth   status\n",
       "2075   {54675.1}    0.000000  optimal\n",
       "1588    {1468.1}  663.411530  optimal\n",
       "887     {8802.1}  674.472254  optimal\n",
       "2022  {267020.1}  714.843470  optimal\n",
       "1007   {10632.1}  714.843470  optimal"
      ]
     },
     "execution_count": 6,
     "metadata": {},
     "output_type": "execute_result"
    }
   ],
   "source": [
    "print(single_ko_results.shape)\n",
    "print(numpy.min(single_ko_results['growth']), numpy.max(single_ko_results['growth']))\n",
    "singledf = single_ko_results.sort_values(by=['growth'])\n",
    "singledf.head()"
   ]
  },
  {
   "cell_type": "markdown",
   "id": "ebb3dd12",
   "metadata": {},
   "source": [
    "## 2.2. double"
   ]
  },
  {
   "cell_type": "code",
   "execution_count": 7,
   "id": "04b4e19a",
   "metadata": {},
   "outputs": [
    {
     "name": "stdout",
     "output_type": "stream",
     "text": [
      "CPU times: user 3.62 s, sys: 655 ms, total: 4.27 s\n",
      "Wall time: 4min 2s\n"
     ]
    }
   ],
   "source": [
    "%%time\n",
    "double_ko_results = cobra.flux_analysis.double_gene_deletion(model, model.genes[:250])"
   ]
  },
  {
   "cell_type": "code",
   "execution_count": 8,
   "id": "44f1fda7",
   "metadata": {},
   "outputs": [
    {
     "name": "stdout",
     "output_type": "stream",
     "text": [
      "(31375, 3)\n",
      "660.1081009126251 755.0032155506779\n"
     ]
    },
    {
     "data": {
      "text/html": [
       "<div>\n",
       "<style scoped>\n",
       "    .dataframe tbody tr th:only-of-type {\n",
       "        vertical-align: middle;\n",
       "    }\n",
       "\n",
       "    .dataframe tbody tr th {\n",
       "        vertical-align: top;\n",
       "    }\n",
       "\n",
       "    .dataframe thead th {\n",
       "        text-align: right;\n",
       "    }\n",
       "</style>\n",
       "<table border=\"1\" class=\"dataframe\">\n",
       "  <thead>\n",
       "    <tr style=\"text-align: right;\">\n",
       "      <th></th>\n",
       "      <th>ids</th>\n",
       "      <th>growth</th>\n",
       "      <th>status</th>\n",
       "    </tr>\n",
       "  </thead>\n",
       "  <tbody>\n",
       "    <tr>\n",
       "      <th>21994</th>\n",
       "      <td>{3177.1, 1468.1}</td>\n",
       "      <td>660.108101</td>\n",
       "      <td>optimal</td>\n",
       "    </tr>\n",
       "    <tr>\n",
       "      <th>592</th>\n",
       "      <td>{1312.2, 1468.1}</td>\n",
       "      <td>663.411530</td>\n",
       "      <td>optimal</td>\n",
       "    </tr>\n",
       "    <tr>\n",
       "      <th>1843</th>\n",
       "      <td>{1468.1, 1109.1}</td>\n",
       "      <td>663.411530</td>\n",
       "      <td>optimal</td>\n",
       "    </tr>\n",
       "    <tr>\n",
       "      <th>13849</th>\n",
       "      <td>{2348.2, 1468.1}</td>\n",
       "      <td>663.411530</td>\n",
       "      <td>optimal</td>\n",
       "    </tr>\n",
       "    <tr>\n",
       "      <th>18305</th>\n",
       "      <td>{6538.1, 1468.1}</td>\n",
       "      <td>663.411530</td>\n",
       "      <td>optimal</td>\n",
       "    </tr>\n",
       "    <tr>\n",
       "      <th>17060</th>\n",
       "      <td>{55293.1, 1468.1}</td>\n",
       "      <td>663.411530</td>\n",
       "      <td>optimal</td>\n",
       "    </tr>\n",
       "    <tr>\n",
       "      <th>12197</th>\n",
       "      <td>{1571.1, 1468.1}</td>\n",
       "      <td>663.411530</td>\n",
       "      <td>optimal</td>\n",
       "    </tr>\n",
       "    <tr>\n",
       "      <th>30375</th>\n",
       "      <td>{131.1, 1468.1}</td>\n",
       "      <td>663.411530</td>\n",
       "      <td>optimal</td>\n",
       "    </tr>\n",
       "    <tr>\n",
       "      <th>26243</th>\n",
       "      <td>{883.1, 1468.1}</td>\n",
       "      <td>663.411530</td>\n",
       "      <td>optimal</td>\n",
       "    </tr>\n",
       "    <tr>\n",
       "      <th>3683</th>\n",
       "      <td>{1468.1, 2571.1}</td>\n",
       "      <td>663.411530</td>\n",
       "      <td>optimal</td>\n",
       "    </tr>\n",
       "    <tr>\n",
       "      <th>22345</th>\n",
       "      <td>{1468.1, 262.1}</td>\n",
       "      <td>663.411530</td>\n",
       "      <td>optimal</td>\n",
       "    </tr>\n",
       "    <tr>\n",
       "      <th>24846</th>\n",
       "      <td>{1374.1, 1468.1}</td>\n",
       "      <td>663.411530</td>\n",
       "      <td>optimal</td>\n",
       "    </tr>\n",
       "    <tr>\n",
       "      <th>28986</th>\n",
       "      <td>{84889.1, 1468.1}</td>\n",
       "      <td>663.411530</td>\n",
       "      <td>optimal</td>\n",
       "    </tr>\n",
       "    <tr>\n",
       "      <th>11523</th>\n",
       "      <td>{79814.1, 1468.1}</td>\n",
       "      <td>663.411530</td>\n",
       "      <td>optimal</td>\n",
       "    </tr>\n",
       "    <tr>\n",
       "      <th>21521</th>\n",
       "      <td>{8639.1, 1468.1}</td>\n",
       "      <td>663.411530</td>\n",
       "      <td>optimal</td>\n",
       "    </tr>\n",
       "    <tr>\n",
       "      <th>23276</th>\n",
       "      <td>{114.1, 1468.1}</td>\n",
       "      <td>663.411530</td>\n",
       "      <td>optimal</td>\n",
       "    </tr>\n",
       "    <tr>\n",
       "      <th>1204</th>\n",
       "      <td>{160287.1, 1468.1}</td>\n",
       "      <td>663.411530</td>\n",
       "      <td>optimal</td>\n",
       "    </tr>\n",
       "    <tr>\n",
       "      <th>21550</th>\n",
       "      <td>{9154.1, 1468.1}</td>\n",
       "      <td>663.411530</td>\n",
       "      <td>optimal</td>\n",
       "    </tr>\n",
       "    <tr>\n",
       "      <th>14796</th>\n",
       "      <td>{55315.1, 1468.1}</td>\n",
       "      <td>663.411530</td>\n",
       "      <td>optimal</td>\n",
       "    </tr>\n",
       "    <tr>\n",
       "      <th>15184</th>\n",
       "      <td>{2572.1, 1468.1}</td>\n",
       "      <td>663.411530</td>\n",
       "      <td>optimal</td>\n",
       "    </tr>\n",
       "  </tbody>\n",
       "</table>\n",
       "</div>"
      ],
      "text/plain": [
       "                      ids      growth   status\n",
       "21994    {3177.1, 1468.1}  660.108101  optimal\n",
       "592      {1312.2, 1468.1}  663.411530  optimal\n",
       "1843     {1468.1, 1109.1}  663.411530  optimal\n",
       "13849    {2348.2, 1468.1}  663.411530  optimal\n",
       "18305    {6538.1, 1468.1}  663.411530  optimal\n",
       "17060   {55293.1, 1468.1}  663.411530  optimal\n",
       "12197    {1571.1, 1468.1}  663.411530  optimal\n",
       "30375     {131.1, 1468.1}  663.411530  optimal\n",
       "26243     {883.1, 1468.1}  663.411530  optimal\n",
       "3683     {1468.1, 2571.1}  663.411530  optimal\n",
       "22345     {1468.1, 262.1}  663.411530  optimal\n",
       "24846    {1374.1, 1468.1}  663.411530  optimal\n",
       "28986   {84889.1, 1468.1}  663.411530  optimal\n",
       "11523   {79814.1, 1468.1}  663.411530  optimal\n",
       "21521    {8639.1, 1468.1}  663.411530  optimal\n",
       "23276     {114.1, 1468.1}  663.411530  optimal\n",
       "1204   {160287.1, 1468.1}  663.411530  optimal\n",
       "21550    {9154.1, 1468.1}  663.411530  optimal\n",
       "14796   {55315.1, 1468.1}  663.411530  optimal\n",
       "15184    {2572.1, 1468.1}  663.411530  optimal"
      ]
     },
     "execution_count": 8,
     "metadata": {},
     "output_type": "execute_result"
    }
   ],
   "source": [
    "print(double_ko_results.shape)\n",
    "print(numpy.min(double_ko_results['growth']), numpy.max(double_ko_results['growth']))\n",
    "doubledf = double_ko_results.sort_values(by=['growth'])\n",
    "doubledf.head(20)"
   ]
  }
 ],
 "metadata": {
  "kernelspec": {
   "display_name": "Python 3",
   "language": "python",
   "name": "python3"
  },
  "language_info": {
   "codemirror_mode": {
    "name": "ipython",
    "version": 3
   },
   "file_extension": ".py",
   "mimetype": "text/x-python",
   "name": "python",
   "nbconvert_exporter": "python",
   "pygments_lexer": "ipython3",
   "version": "3.8.10"
  }
 },
 "nbformat": 4,
 "nbformat_minor": 5
}
