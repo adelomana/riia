{
 "cells": [
  {
   "cell_type": "code",
   "execution_count": 1,
   "id": "b461770b",
   "metadata": {},
   "outputs": [],
   "source": [
    "import cobra, numpy"
   ]
  },
  {
   "cell_type": "markdown",
   "id": "4ed2f854",
   "metadata": {},
   "source": [
    "# 0. user-defined variables"
   ]
  },
  {
   "cell_type": "code",
   "execution_count": 2,
   "id": "3bb60219",
   "metadata": {},
   "outputs": [],
   "source": [
    "model_file = '/Users/adrian/projects/hpc/data/Recon3DModel_301.mat'"
   ]
  },
  {
   "cell_type": "code",
   "execution_count": 3,
   "id": "8ba8ad6e",
   "metadata": {},
   "outputs": [
    {
     "data": {
      "text/html": [
       "\n",
       "<table>\n",
       "  <thead>\n",
       "    <tr>\n",
       "      <td><strong>Attribute</strong></td>\n",
       "      <td><strong>Description</strong></td>\n",
       "      <td><strong>Value</strong></td>\n",
       "    </tr>\n",
       "  </thead>\n",
       "  <tbody>\n",
       "    <tr>\n",
       "      <td><pre>solver</pre></td>\n",
       "      <td>Mathematical optimization solver</td>\n",
       "      <td>glpk</td>\n",
       "    </tr>\n",
       "    <tr>\n",
       "        <td><pre>tolerance</pre></td>\n",
       "        <td>General solver tolerance (feasibility, integrality, etc.)</td>\n",
       "        <td>1e-07</td>\n",
       "    </tr>\n",
       "    <tr>\n",
       "        <td><pre>lower_bound</pre></td>\n",
       "        <td>Default reaction lower bound</td>\n",
       "        <td>-1000.0</td>\n",
       "    </tr>\n",
       "    <tr>\n",
       "        <td><pre>upper_bound</pre></td>\n",
       "        <td>Default reaction upper bound</td>\n",
       "        <td>1000.0</td>\n",
       "    </tr>\n",
       "    <tr>\n",
       "        <td><pre>processes</pre></td>\n",
       "        <td>Number of parallel processes</td>\n",
       "        <td>8</td>\n",
       "    </tr>\n",
       "    <tr>\n",
       "        <td><pre>cache_directory</pre></td>\n",
       "        <td>Path for the model cache</td>\n",
       "        <td>/Users/adrian/Library/Caches/cobrapy</td>\n",
       "    </tr>\n",
       "    <tr>\n",
       "        <td><pre>max_cache_size</pre></td>\n",
       "        <td>Maximum cache size in bytes</td>\n",
       "        <td>104857600</td>\n",
       "    </tr>\n",
       "    <tr>\n",
       "        <td><pre>cache_expiration</pre></td>\n",
       "        <td>Model cache expiration time in seconds (if any)</td>\n",
       "        <td>None</td>\n",
       "    </tr>\n",
       "  </tbody>\n",
       "</table>\n"
      ],
      "text/plain": [
       "\n",
       "solver: glpk\n",
       "tolerance: 1e-07\n",
       "lower_bound: -1000.0\n",
       "upper_bound: 1000.0\n",
       "processes: 8\n",
       "cache_directory: /Users/adrian/Library/Caches/cobrapy\n",
       "max_cache_size: 104857600\n",
       "cache_expiration: None"
      ]
     },
     "execution_count": 3,
     "metadata": {},
     "output_type": "execute_result"
    }
   ],
   "source": [
    "cobra_config = cobra.Configuration()\n",
    "cobra_config.processes = 8\n",
    "cobra.Configuration()"
   ]
  },
  {
   "cell_type": "markdown",
   "id": "5776d32d",
   "metadata": {},
   "source": [
    "# 1. load model"
   ]
  },
  {
   "cell_type": "code",
   "execution_count": 4,
   "id": "467e7ba9",
   "metadata": {},
   "outputs": [],
   "source": [
    "model = cobra.io.load_matlab_model(model_file)"
   ]
  },
  {
   "cell_type": "code",
   "execution_count": 5,
   "id": "7db58580",
   "metadata": {},
   "outputs": [
    {
     "data": {
      "text/html": [
       "\n",
       "        <table>\n",
       "            <tr>\n",
       "                <td><strong>Name</strong></td>\n",
       "                <td>Recon3DModel</td>\n",
       "            </tr><tr>\n",
       "                <td><strong>Memory address</strong></td>\n",
       "                <td>0x07fd6921fdf70</td>\n",
       "            </tr><tr>\n",
       "                <td><strong>Number of metabolites</strong></td>\n",
       "                <td>5835</td>\n",
       "            </tr><tr>\n",
       "                <td><strong>Number of reactions</strong></td>\n",
       "                <td>10600</td>\n",
       "            </tr><tr>\n",
       "                <td><strong>Number of groups</strong></td>\n",
       "                <td>0</td>\n",
       "            </tr><tr>\n",
       "                <td><strong>Objective expression</strong></td>\n",
       "                <td>1.0*biomass_maintenance - 1.0*biomass_maintenance_reverse_95d2f</td>\n",
       "            </tr><tr>\n",
       "                <td><strong>Compartments</strong></td>\n",
       "                <td>c, l, m, r, e, x, n, g, i</td>\n",
       "            </tr>\n",
       "          </table>"
      ],
      "text/plain": [
       "<Model Recon3DModel at 0x7fd6921fdf70>"
      ]
     },
     "execution_count": 5,
     "metadata": {},
     "output_type": "execute_result"
    }
   ],
   "source": [
    "model"
   ]
  },
  {
   "cell_type": "markdown",
   "id": "702eabc0",
   "metadata": {},
   "source": [
    "# 2. FBA"
   ]
  },
  {
   "cell_type": "code",
   "execution_count": 6,
   "id": "e97ac4f3",
   "metadata": {},
   "outputs": [],
   "source": [
    "# # simulating FBA\n",
    "\n",
    "# solution = model.optimize()\n",
    "# print(solution.status)\n",
    "# model.summary()"
   ]
  },
  {
   "cell_type": "markdown",
   "id": "cac49e14",
   "metadata": {},
   "source": [
    "## 2.2. FVA"
   ]
  },
  {
   "cell_type": "code",
   "execution_count": 7,
   "id": "ed9aa1c3",
   "metadata": {},
   "outputs": [],
   "source": [
    "#%%time\n",
    "# FLUX VARIABILITY ANALYSIS\n",
    "\n",
    "#cobra.flux_analysis.flux_variability_analysis(model, model.reactions[:10])\n",
    "#cobra.flux_analysis.flux_variability_analysis(model, model.reactions[:10], fraction_of_optimum=0.9)\n",
    "#cobra.flux_analysis.flux_variability_analysis(model, model.reactions[:48], fraction_of_optimum=0.9, loopless=True, processes=8)"
   ]
  },
  {
   "cell_type": "markdown",
   "id": "51a0d01f",
   "metadata": {},
   "source": [
    "## 2.3. geometric FBA"
   ]
  },
  {
   "cell_type": "code",
   "execution_count": 8,
   "id": "9b1b52ac",
   "metadata": {},
   "outputs": [],
   "source": [
    "# geometric FBA\n",
    "# geometric_fba_sol = cobra.flux_analysis.geometric_fba(model)"
   ]
  },
  {
   "cell_type": "markdown",
   "id": "562fb057",
   "metadata": {},
   "source": [
    "# 3. deletions"
   ]
  },
  {
   "cell_type": "markdown",
   "id": "838131c9",
   "metadata": {},
   "source": [
    "## 3.1. single"
   ]
  },
  {
   "cell_type": "code",
   "execution_count": 9,
   "id": "86809264",
   "metadata": {},
   "outputs": [
    {
     "name": "stdout",
     "output_type": "stream",
     "text": [
      "2248\n",
      "CPU times: user 1.29 s, sys: 339 ms, total: 1.63 s\n",
      "Wall time: 16.9 s\n"
     ]
    }
   ],
   "source": [
    "%%time\n",
    "print(len(model.genes))\n",
    "single_ko_results = cobra.flux_analysis.single_gene_deletion(model, model.genes)"
   ]
  },
  {
   "cell_type": "code",
   "execution_count": 10,
   "id": "60c35d27",
   "metadata": {},
   "outputs": [
    {
     "name": "stdout",
     "output_type": "stream",
     "text": [
      "(2248, 3)\n",
      "0.0 755.0032155506638\n"
     ]
    },
    {
     "data": {
      "text/html": [
       "<div>\n",
       "<style scoped>\n",
       "    .dataframe tbody tr th:only-of-type {\n",
       "        vertical-align: middle;\n",
       "    }\n",
       "\n",
       "    .dataframe tbody tr th {\n",
       "        vertical-align: top;\n",
       "    }\n",
       "\n",
       "    .dataframe thead th {\n",
       "        text-align: right;\n",
       "    }\n",
       "</style>\n",
       "<table border=\"1\" class=\"dataframe\">\n",
       "  <thead>\n",
       "    <tr style=\"text-align: right;\">\n",
       "      <th></th>\n",
       "      <th>ids</th>\n",
       "      <th>growth</th>\n",
       "      <th>status</th>\n",
       "    </tr>\n",
       "  </thead>\n",
       "  <tbody>\n",
       "    <tr>\n",
       "      <th>1578</th>\n",
       "      <td>{54675.1}</td>\n",
       "      <td>0.000000</td>\n",
       "      <td>optimal</td>\n",
       "    </tr>\n",
       "    <tr>\n",
       "      <th>1198</th>\n",
       "      <td>{1468.1}</td>\n",
       "      <td>663.411530</td>\n",
       "      <td>optimal</td>\n",
       "    </tr>\n",
       "    <tr>\n",
       "      <th>1573</th>\n",
       "      <td>{8802.1}</td>\n",
       "      <td>674.472254</td>\n",
       "      <td>optimal</td>\n",
       "    </tr>\n",
       "    <tr>\n",
       "      <th>187</th>\n",
       "      <td>{8803.1}</td>\n",
       "      <td>714.843470</td>\n",
       "      <td>optimal</td>\n",
       "    </tr>\n",
       "    <tr>\n",
       "      <th>818</th>\n",
       "      <td>{27109.1}</td>\n",
       "      <td>714.843470</td>\n",
       "      <td>optimal</td>\n",
       "    </tr>\n",
       "  </tbody>\n",
       "</table>\n",
       "</div>"
      ],
      "text/plain": [
       "            ids      growth   status\n",
       "1578  {54675.1}    0.000000  optimal\n",
       "1198   {1468.1}  663.411530  optimal\n",
       "1573   {8802.1}  674.472254  optimal\n",
       "187    {8803.1}  714.843470  optimal\n",
       "818   {27109.1}  714.843470  optimal"
      ]
     },
     "execution_count": 10,
     "metadata": {},
     "output_type": "execute_result"
    }
   ],
   "source": [
    "print(single_ko_results.shape)\n",
    "print(numpy.min(single_ko_results['growth']), numpy.max(single_ko_results['growth']))\n",
    "singledf = single_ko_results.sort_values(by=['growth'])\n",
    "singledf.head()"
   ]
  },
  {
   "cell_type": "markdown",
   "id": "ebb3dd12",
   "metadata": {},
   "source": [
    "## 3.2. double"
   ]
  },
  {
   "cell_type": "code",
   "execution_count": 11,
   "id": "04b4e19a",
   "metadata": {},
   "outputs": [
    {
     "name": "stdout",
     "output_type": "stream",
     "text": [
      "CPU times: user 1.66 s, sys: 363 ms, total: 2.02 s\n",
      "Wall time: 1min 21s\n"
     ]
    }
   ],
   "source": [
    "%%time\n",
    "# this needs to be explored in BSC\n",
    "double_ko_results = cobra.flux_analysis.double_gene_deletion(model, model.genes[:250])"
   ]
  },
  {
   "cell_type": "code",
   "execution_count": 12,
   "id": "44f1fda7",
   "metadata": {},
   "outputs": [
    {
     "name": "stdout",
     "output_type": "stream",
     "text": [
      "(31375, 3)\n",
      "660.108100912625 755.0032155506852\n"
     ]
    },
    {
     "data": {
      "text/html": [
       "<div>\n",
       "<style scoped>\n",
       "    .dataframe tbody tr th:only-of-type {\n",
       "        vertical-align: middle;\n",
       "    }\n",
       "\n",
       "    .dataframe tbody tr th {\n",
       "        vertical-align: top;\n",
       "    }\n",
       "\n",
       "    .dataframe thead th {\n",
       "        text-align: right;\n",
       "    }\n",
       "</style>\n",
       "<table border=\"1\" class=\"dataframe\">\n",
       "  <thead>\n",
       "    <tr style=\"text-align: right;\">\n",
       "      <th></th>\n",
       "      <th>ids</th>\n",
       "      <th>growth</th>\n",
       "      <th>status</th>\n",
       "    </tr>\n",
       "  </thead>\n",
       "  <tbody>\n",
       "    <tr>\n",
       "      <th>20287</th>\n",
       "      <td>{3177.1, 1468.1}</td>\n",
       "      <td>660.108101</td>\n",
       "      <td>optimal</td>\n",
       "    </tr>\n",
       "    <tr>\n",
       "      <th>8563</th>\n",
       "      <td>{1312.2, 1468.1}</td>\n",
       "      <td>663.411530</td>\n",
       "      <td>optimal</td>\n",
       "    </tr>\n",
       "    <tr>\n",
       "      <th>4684</th>\n",
       "      <td>{92483.1, 1468.1}</td>\n",
       "      <td>663.411530</td>\n",
       "      <td>optimal</td>\n",
       "    </tr>\n",
       "    <tr>\n",
       "      <th>17709</th>\n",
       "      <td>{1743.1, 1468.1}</td>\n",
       "      <td>663.411530</td>\n",
       "      <td>optimal</td>\n",
       "    </tr>\n",
       "    <tr>\n",
       "      <th>8647</th>\n",
       "      <td>{314.1, 1468.1}</td>\n",
       "      <td>663.411530</td>\n",
       "      <td>optimal</td>\n",
       "    </tr>\n",
       "  </tbody>\n",
       "</table>\n",
       "</div>"
      ],
      "text/plain": [
       "                     ids      growth   status\n",
       "20287   {3177.1, 1468.1}  660.108101  optimal\n",
       "8563    {1312.2, 1468.1}  663.411530  optimal\n",
       "4684   {92483.1, 1468.1}  663.411530  optimal\n",
       "17709   {1743.1, 1468.1}  663.411530  optimal\n",
       "8647     {314.1, 1468.1}  663.411530  optimal"
      ]
     },
     "execution_count": 12,
     "metadata": {},
     "output_type": "execute_result"
    }
   ],
   "source": [
    "print(double_ko_results.shape)\n",
    "double_ko_results.head()\n",
    "print(numpy.min(double_ko_results['growth']), numpy.max(double_ko_results['growth']))\n",
    "doubledf = double_ko_results.sort_values(by=['growth'])\n",
    "doubledf.head()"
   ]
  },
  {
   "cell_type": "code",
   "execution_count": null,
   "id": "681e684d",
   "metadata": {},
   "outputs": [],
   "source": []
  }
 ],
 "metadata": {
  "kernelspec": {
   "display_name": "Python 3",
   "language": "python",
   "name": "python3"
  },
  "language_info": {
   "codemirror_mode": {
    "name": "ipython",
    "version": 3
   },
   "file_extension": ".py",
   "mimetype": "text/x-python",
   "name": "python",
   "nbconvert_exporter": "python",
   "pygments_lexer": "ipython3",
   "version": "3.8.10"
  }
 },
 "nbformat": 4,
 "nbformat_minor": 5
}
