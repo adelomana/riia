{
 "cells": [
  {
   "cell_type": "code",
   "execution_count": 1,
   "id": "c2ef8a45",
   "metadata": {},
   "outputs": [],
   "source": [
    "# get the data\n",
    "\n",
    "# intersect with model\n",
    "\n",
    "# define a rule of change"
   ]
  },
  {
   "cell_type": "code",
   "execution_count": 2,
   "id": "8a20c557",
   "metadata": {},
   "outputs": [],
   "source": [
    "import cobra"
   ]
  },
  {
   "cell_type": "code",
   "execution_count": 3,
   "id": "c3dac95b",
   "metadata": {},
   "outputs": [],
   "source": [
    "import pandas, seaborn, numpy"
   ]
  },
  {
   "cell_type": "code",
   "execution_count": 4,
   "id": "e536cbf6",
   "metadata": {},
   "outputs": [],
   "source": [
    "import matplotlib, matplotlib.pyplot\n",
    "matplotlib.rcParams.update({'font.size':20, 'font.family':'FreeSans', 'xtick.labelsize':20, 'ytick.labelsize':20, 'figure.figsize':(8, 4)})"
   ]
  },
  {
   "cell_type": "markdown",
   "id": "92608b04",
   "metadata": {},
   "source": [
    "# 0. user defined variables"
   ]
  },
  {
   "cell_type": "code",
   "execution_count": 17,
   "id": "2bca6c33",
   "metadata": {},
   "outputs": [],
   "source": [
    "expression_input_file = '/Users/adrian/projects/riia/data/expression/optimal_dataset.csv'\n",
    "model_file = '/Users/adrian/projects/riia/data/model/Recon3DModel_301.mat'"
   ]
  },
  {
   "cell_type": "markdown",
   "id": "2679a63e",
   "metadata": {},
   "source": [
    "# 1. read expression data"
   ]
  },
  {
   "cell_type": "code",
   "execution_count": 6,
   "id": "383d8022",
   "metadata": {},
   "outputs": [
    {
     "data": {
      "text/plain": [
       "(4998, 2636)"
      ]
     },
     "execution_count": 6,
     "metadata": {},
     "output_type": "execute_result"
    }
   ],
   "source": [
    "df = pandas.read_csv(expression_input_file, index_col='Feature')\n",
    "expression = df.drop('Unnamed: 0', axis=1)\n",
    "expression.shape"
   ]
  },
  {
   "cell_type": "code",
   "execution_count": 7,
   "id": "f295408e",
   "metadata": {},
   "outputs": [
    {
     "name": "stdout",
     "output_type": "stream",
     "text": [
      "(4998, 2636)\n"
     ]
    },
    {
     "data": {
      "text/html": [
       "<div>\n",
       "<style scoped>\n",
       "    .dataframe tbody tr th:only-of-type {\n",
       "        vertical-align: middle;\n",
       "    }\n",
       "\n",
       "    .dataframe tbody tr th {\n",
       "        vertical-align: top;\n",
       "    }\n",
       "\n",
       "    .dataframe thead th {\n",
       "        text-align: right;\n",
       "    }\n",
       "</style>\n",
       "<table border=\"1\" class=\"dataframe\">\n",
       "  <thead>\n",
       "    <tr style=\"text-align: right;\">\n",
       "      <th></th>\n",
       "      <th>GSM752709.cel</th>\n",
       "      <th>GSM752710.cel</th>\n",
       "      <th>GSM752711.cel</th>\n",
       "      <th>GSM752712.cel</th>\n",
       "      <th>GSM752713.cel</th>\n",
       "      <th>GSM752714.cel</th>\n",
       "      <th>GSM752715.cel</th>\n",
       "      <th>GSM752716.cel</th>\n",
       "      <th>GSM752717.cel</th>\n",
       "      <th>GSM752718.cel</th>\n",
       "      <th>...</th>\n",
       "      <th>GSM46386.CEL</th>\n",
       "      <th>GSM46387.CEL</th>\n",
       "      <th>GSM46388.CEL</th>\n",
       "      <th>GSM46389.CEL</th>\n",
       "      <th>GSM46390.CEL</th>\n",
       "      <th>GSM46391.CEL</th>\n",
       "      <th>GSM46392.CEL</th>\n",
       "      <th>GSM46393.CEL</th>\n",
       "      <th>GSM46394.CEL</th>\n",
       "      <th>GSM46395.CEL</th>\n",
       "    </tr>\n",
       "  </thead>\n",
       "  <tbody>\n",
       "    <tr>\n",
       "      <th>100</th>\n",
       "      <td>6.082276</td>\n",
       "      <td>6.296477</td>\n",
       "      <td>5.678143</td>\n",
       "      <td>5.903716</td>\n",
       "      <td>6.561618</td>\n",
       "      <td>6.563634</td>\n",
       "      <td>6.315923</td>\n",
       "      <td>6.285618</td>\n",
       "      <td>6.213070</td>\n",
       "      <td>6.462815</td>\n",
       "      <td>...</td>\n",
       "      <td>6.277586</td>\n",
       "      <td>6.319818</td>\n",
       "      <td>6.377999</td>\n",
       "      <td>6.527582</td>\n",
       "      <td>6.489835</td>\n",
       "      <td>6.624150</td>\n",
       "      <td>8.837815</td>\n",
       "      <td>8.586964</td>\n",
       "      <td>6.352242</td>\n",
       "      <td>6.281925</td>\n",
       "    </tr>\n",
       "    <tr>\n",
       "      <th>1000</th>\n",
       "      <td>8.910453</td>\n",
       "      <td>9.094440</td>\n",
       "      <td>9.018398</td>\n",
       "      <td>8.981716</td>\n",
       "      <td>9.903595</td>\n",
       "      <td>9.752144</td>\n",
       "      <td>10.060706</td>\n",
       "      <td>10.016482</td>\n",
       "      <td>10.449370</td>\n",
       "      <td>10.395254</td>\n",
       "      <td>...</td>\n",
       "      <td>8.676218</td>\n",
       "      <td>8.441180</td>\n",
       "      <td>8.843971</td>\n",
       "      <td>8.998472</td>\n",
       "      <td>8.892125</td>\n",
       "      <td>8.860669</td>\n",
       "      <td>9.992499</td>\n",
       "      <td>10.019584</td>\n",
       "      <td>8.024033</td>\n",
       "      <td>7.984392</td>\n",
       "    </tr>\n",
       "    <tr>\n",
       "      <th>10000</th>\n",
       "      <td>3.903745</td>\n",
       "      <td>3.573659</td>\n",
       "      <td>3.750108</td>\n",
       "      <td>4.090731</td>\n",
       "      <td>3.960562</td>\n",
       "      <td>3.867853</td>\n",
       "      <td>3.701989</td>\n",
       "      <td>3.649789</td>\n",
       "      <td>3.906663</td>\n",
       "      <td>3.963748</td>\n",
       "      <td>...</td>\n",
       "      <td>6.441616</td>\n",
       "      <td>6.292823</td>\n",
       "      <td>6.226290</td>\n",
       "      <td>6.620311</td>\n",
       "      <td>6.222595</td>\n",
       "      <td>6.497028</td>\n",
       "      <td>7.098504</td>\n",
       "      <td>7.330978</td>\n",
       "      <td>6.436398</td>\n",
       "      <td>6.473776</td>\n",
       "    </tr>\n",
       "    <tr>\n",
       "      <th>10005</th>\n",
       "      <td>5.963907</td>\n",
       "      <td>6.097107</td>\n",
       "      <td>5.790247</td>\n",
       "      <td>5.761399</td>\n",
       "      <td>6.016096</td>\n",
       "      <td>6.124152</td>\n",
       "      <td>6.104648</td>\n",
       "      <td>5.986309</td>\n",
       "      <td>5.860771</td>\n",
       "      <td>6.024226</td>\n",
       "      <td>...</td>\n",
       "      <td>7.281914</td>\n",
       "      <td>7.315629</td>\n",
       "      <td>7.086792</td>\n",
       "      <td>7.135733</td>\n",
       "      <td>7.045656</td>\n",
       "      <td>6.585559</td>\n",
       "      <td>7.457399</td>\n",
       "      <td>8.094391</td>\n",
       "      <td>6.995187</td>\n",
       "      <td>7.402195</td>\n",
       "    </tr>\n",
       "    <tr>\n",
       "      <th>10006</th>\n",
       "      <td>7.752008</td>\n",
       "      <td>7.465366</td>\n",
       "      <td>7.941747</td>\n",
       "      <td>7.606796</td>\n",
       "      <td>7.469340</td>\n",
       "      <td>7.268851</td>\n",
       "      <td>7.641408</td>\n",
       "      <td>7.385734</td>\n",
       "      <td>7.565066</td>\n",
       "      <td>7.325005</td>\n",
       "      <td>...</td>\n",
       "      <td>6.486721</td>\n",
       "      <td>6.146278</td>\n",
       "      <td>5.913813</td>\n",
       "      <td>5.738923</td>\n",
       "      <td>6.470929</td>\n",
       "      <td>6.267256</td>\n",
       "      <td>6.340759</td>\n",
       "      <td>7.332293</td>\n",
       "      <td>5.348349</td>\n",
       "      <td>5.980073</td>\n",
       "    </tr>\n",
       "  </tbody>\n",
       "</table>\n",
       "<p>5 rows × 2636 columns</p>\n",
       "</div>"
      ],
      "text/plain": [
       "       GSM752709.cel  GSM752710.cel  GSM752711.cel  GSM752712.cel  \\\n",
       "100         6.082276       6.296477       5.678143       5.903716   \n",
       "1000        8.910453       9.094440       9.018398       8.981716   \n",
       "10000       3.903745       3.573659       3.750108       4.090731   \n",
       "10005       5.963907       6.097107       5.790247       5.761399   \n",
       "10006       7.752008       7.465366       7.941747       7.606796   \n",
       "\n",
       "       GSM752713.cel  GSM752714.cel  GSM752715.cel  GSM752716.cel  \\\n",
       "100         6.561618       6.563634       6.315923       6.285618   \n",
       "1000        9.903595       9.752144      10.060706      10.016482   \n",
       "10000       3.960562       3.867853       3.701989       3.649789   \n",
       "10005       6.016096       6.124152       6.104648       5.986309   \n",
       "10006       7.469340       7.268851       7.641408       7.385734   \n",
       "\n",
       "       GSM752717.cel  GSM752718.cel  ...  GSM46386.CEL  GSM46387.CEL  \\\n",
       "100         6.213070       6.462815  ...      6.277586      6.319818   \n",
       "1000       10.449370      10.395254  ...      8.676218      8.441180   \n",
       "10000       3.906663       3.963748  ...      6.441616      6.292823   \n",
       "10005       5.860771       6.024226  ...      7.281914      7.315629   \n",
       "10006       7.565066       7.325005  ...      6.486721      6.146278   \n",
       "\n",
       "       GSM46388.CEL  GSM46389.CEL  GSM46390.CEL  GSM46391.CEL  GSM46392.CEL  \\\n",
       "100        6.377999      6.527582      6.489835      6.624150      8.837815   \n",
       "1000       8.843971      8.998472      8.892125      8.860669      9.992499   \n",
       "10000      6.226290      6.620311      6.222595      6.497028      7.098504   \n",
       "10005      7.086792      7.135733      7.045656      6.585559      7.457399   \n",
       "10006      5.913813      5.738923      6.470929      6.267256      6.340759   \n",
       "\n",
       "       GSM46393.CEL  GSM46394.CEL  GSM46395.CEL  \n",
       "100        8.586964      6.352242      6.281925  \n",
       "1000      10.019584      8.024033      7.984392  \n",
       "10000      7.330978      6.436398      6.473776  \n",
       "10005      8.094391      6.995187      7.402195  \n",
       "10006      7.332293      5.348349      5.980073  \n",
       "\n",
       "[5 rows x 2636 columns]"
      ]
     },
     "execution_count": 7,
     "metadata": {},
     "output_type": "execute_result"
    }
   ],
   "source": [
    "expression = pandas.read_csv(expression_input_file)\n",
    "expression.drop([\"Unnamed: 0\"], axis='columns', inplace=True)\n",
    "expression = expression.set_index(\"Feature\")\n",
    "expression.rename_axis(None, inplace=True)\n",
    "\n",
    "print(expression.shape)\n",
    "expression.head()"
   ]
  },
  {
   "cell_type": "code",
   "execution_count": 8,
   "id": "9924b7ef",
   "metadata": {},
   "outputs": [
    {
     "data": {
      "text/html": [
       "<div>\n",
       "<style scoped>\n",
       "    .dataframe tbody tr th:only-of-type {\n",
       "        vertical-align: middle;\n",
       "    }\n",
       "\n",
       "    .dataframe tbody tr th {\n",
       "        vertical-align: top;\n",
       "    }\n",
       "\n",
       "    .dataframe thead th {\n",
       "        text-align: right;\n",
       "    }\n",
       "</style>\n",
       "<table border=\"1\" class=\"dataframe\">\n",
       "  <thead>\n",
       "    <tr style=\"text-align: right;\">\n",
       "      <th></th>\n",
       "      <th>100</th>\n",
       "      <th>1000</th>\n",
       "      <th>10000</th>\n",
       "      <th>10005</th>\n",
       "      <th>10006</th>\n",
       "      <th>10007</th>\n",
       "      <th>10010</th>\n",
       "      <th>10013</th>\n",
       "      <th>10015</th>\n",
       "      <th>10019</th>\n",
       "      <th>...</th>\n",
       "      <th>9978</th>\n",
       "      <th>998</th>\n",
       "      <th>9984</th>\n",
       "      <th>9987</th>\n",
       "      <th>9988</th>\n",
       "      <th>9989</th>\n",
       "      <th>9990</th>\n",
       "      <th>9991</th>\n",
       "      <th>9993</th>\n",
       "      <th>9994</th>\n",
       "    </tr>\n",
       "  </thead>\n",
       "  <tbody>\n",
       "    <tr>\n",
       "      <th>GSM752709.cel</th>\n",
       "      <td>6.082276</td>\n",
       "      <td>8.910453</td>\n",
       "      <td>3.903745</td>\n",
       "      <td>5.963907</td>\n",
       "      <td>7.752008</td>\n",
       "      <td>7.375102</td>\n",
       "      <td>5.187760</td>\n",
       "      <td>5.620045</td>\n",
       "      <td>10.513556</td>\n",
       "      <td>9.541779</td>\n",
       "      <td>...</td>\n",
       "      <td>9.972469</td>\n",
       "      <td>11.040979</td>\n",
       "      <td>7.934275</td>\n",
       "      <td>10.396367</td>\n",
       "      <td>7.174313</td>\n",
       "      <td>9.607231</td>\n",
       "      <td>4.541300</td>\n",
       "      <td>5.560324</td>\n",
       "      <td>5.421064</td>\n",
       "      <td>6.115885</td>\n",
       "    </tr>\n",
       "    <tr>\n",
       "      <th>GSM752710.cel</th>\n",
       "      <td>6.296477</td>\n",
       "      <td>9.094440</td>\n",
       "      <td>3.573659</td>\n",
       "      <td>6.097107</td>\n",
       "      <td>7.465366</td>\n",
       "      <td>7.314584</td>\n",
       "      <td>4.776528</td>\n",
       "      <td>5.593111</td>\n",
       "      <td>10.304974</td>\n",
       "      <td>9.013600</td>\n",
       "      <td>...</td>\n",
       "      <td>9.869174</td>\n",
       "      <td>11.418171</td>\n",
       "      <td>8.313562</td>\n",
       "      <td>10.662624</td>\n",
       "      <td>6.760496</td>\n",
       "      <td>9.543961</td>\n",
       "      <td>4.129266</td>\n",
       "      <td>5.308262</td>\n",
       "      <td>5.107210</td>\n",
       "      <td>5.385675</td>\n",
       "    </tr>\n",
       "    <tr>\n",
       "      <th>GSM752711.cel</th>\n",
       "      <td>5.678143</td>\n",
       "      <td>9.018398</td>\n",
       "      <td>3.750108</td>\n",
       "      <td>5.790247</td>\n",
       "      <td>7.941747</td>\n",
       "      <td>7.420180</td>\n",
       "      <td>5.657152</td>\n",
       "      <td>5.238865</td>\n",
       "      <td>10.533208</td>\n",
       "      <td>9.677985</td>\n",
       "      <td>...</td>\n",
       "      <td>9.908754</td>\n",
       "      <td>11.222550</td>\n",
       "      <td>7.915767</td>\n",
       "      <td>10.335600</td>\n",
       "      <td>7.501811</td>\n",
       "      <td>9.677517</td>\n",
       "      <td>4.073877</td>\n",
       "      <td>5.546625</td>\n",
       "      <td>5.445133</td>\n",
       "      <td>5.948111</td>\n",
       "    </tr>\n",
       "    <tr>\n",
       "      <th>GSM752712.cel</th>\n",
       "      <td>5.903716</td>\n",
       "      <td>8.981716</td>\n",
       "      <td>4.090731</td>\n",
       "      <td>5.761399</td>\n",
       "      <td>7.606796</td>\n",
       "      <td>7.501158</td>\n",
       "      <td>5.115412</td>\n",
       "      <td>5.331495</td>\n",
       "      <td>10.522132</td>\n",
       "      <td>9.546220</td>\n",
       "      <td>...</td>\n",
       "      <td>9.884071</td>\n",
       "      <td>11.050198</td>\n",
       "      <td>7.927955</td>\n",
       "      <td>10.168285</td>\n",
       "      <td>7.240025</td>\n",
       "      <td>9.559407</td>\n",
       "      <td>4.563461</td>\n",
       "      <td>5.734750</td>\n",
       "      <td>5.229923</td>\n",
       "      <td>5.777848</td>\n",
       "    </tr>\n",
       "    <tr>\n",
       "      <th>GSM752713.cel</th>\n",
       "      <td>6.561618</td>\n",
       "      <td>9.903595</td>\n",
       "      <td>3.960562</td>\n",
       "      <td>6.016096</td>\n",
       "      <td>7.469340</td>\n",
       "      <td>7.443952</td>\n",
       "      <td>5.041231</td>\n",
       "      <td>5.256271</td>\n",
       "      <td>10.415659</td>\n",
       "      <td>9.294982</td>\n",
       "      <td>...</td>\n",
       "      <td>9.883845</td>\n",
       "      <td>9.632507</td>\n",
       "      <td>8.109991</td>\n",
       "      <td>10.208548</td>\n",
       "      <td>6.728994</td>\n",
       "      <td>9.398856</td>\n",
       "      <td>3.990184</td>\n",
       "      <td>5.004711</td>\n",
       "      <td>5.538198</td>\n",
       "      <td>5.569191</td>\n",
       "    </tr>\n",
       "  </tbody>\n",
       "</table>\n",
       "<p>5 rows × 4998 columns</p>\n",
       "</div>"
      ],
      "text/plain": [
       "                  100       1000      10000     10005     10006     10007  \\\n",
       "GSM752709.cel  6.082276  8.910453  3.903745  5.963907  7.752008  7.375102   \n",
       "GSM752710.cel  6.296477  9.094440  3.573659  6.097107  7.465366  7.314584   \n",
       "GSM752711.cel  5.678143  9.018398  3.750108  5.790247  7.941747  7.420180   \n",
       "GSM752712.cel  5.903716  8.981716  4.090731  5.761399  7.606796  7.501158   \n",
       "GSM752713.cel  6.561618  9.903595  3.960562  6.016096  7.469340  7.443952   \n",
       "\n",
       "                  10010     10013      10015     10019  ...     9978   \\\n",
       "GSM752709.cel  5.187760  5.620045  10.513556  9.541779  ...  9.972469   \n",
       "GSM752710.cel  4.776528  5.593111  10.304974  9.013600  ...  9.869174   \n",
       "GSM752711.cel  5.657152  5.238865  10.533208  9.677985  ...  9.908754   \n",
       "GSM752712.cel  5.115412  5.331495  10.522132  9.546220  ...  9.884071   \n",
       "GSM752713.cel  5.041231  5.256271  10.415659  9.294982  ...  9.883845   \n",
       "\n",
       "                   998       9984       9987      9988      9989      9990   \\\n",
       "GSM752709.cel  11.040979  7.934275  10.396367  7.174313  9.607231  4.541300   \n",
       "GSM752710.cel  11.418171  8.313562  10.662624  6.760496  9.543961  4.129266   \n",
       "GSM752711.cel  11.222550  7.915767  10.335600  7.501811  9.677517  4.073877   \n",
       "GSM752712.cel  11.050198  7.927955  10.168285  7.240025  9.559407  4.563461   \n",
       "GSM752713.cel   9.632507  8.109991  10.208548  6.728994  9.398856  3.990184   \n",
       "\n",
       "                  9991      9993      9994   \n",
       "GSM752709.cel  5.560324  5.421064  6.115885  \n",
       "GSM752710.cel  5.308262  5.107210  5.385675  \n",
       "GSM752711.cel  5.546625  5.445133  5.948111  \n",
       "GSM752712.cel  5.734750  5.229923  5.777848  \n",
       "GSM752713.cel  5.004711  5.538198  5.569191  \n",
       "\n",
       "[5 rows x 4998 columns]"
      ]
     },
     "execution_count": 8,
     "metadata": {},
     "output_type": "execute_result"
    }
   ],
   "source": [
    "transpose_expression = expression.transpose()\n",
    "transpose_expression.head()"
   ]
  },
  {
   "cell_type": "code",
   "execution_count": 9,
   "id": "95617623",
   "metadata": {},
   "outputs": [
    {
     "name": "stderr",
     "output_type": "stream",
     "text": [
      "findfont: Font family ['FreeSans'] not found. Falling back to DejaVu Sans.\n"
     ]
    },
    {
     "data": {
      "image/png": "[encoded data removed]",
      "text/plain": [
       "<Figure size 648x432 with 1 Axes>"
      ]
     },
     "metadata": {
      "needs_background": "light"
     },
     "output_type": "display_data"
    }
   ],
   "source": [
    "matplotlib.pyplot.figure(figsize=(9, 6))\n",
    "g = seaborn.boxplot(data=expression.iloc[:, 1:100], palette='tab10')\n",
    "g.set(xticklabels=[])\n",
    "g.tick_params(bottom=False)\n",
    "g.set(xlabel='Samples', ylabel='log2 Expression')\n",
    "matplotlib.pyplot.show()"
   ]
  },
  {
   "cell_type": "code",
   "execution_count": 10,
   "id": "9d9f3183",
   "metadata": {},
   "outputs": [
    {
     "data": {
      "image/png": "[encoded data removed]",
      "text/plain": [
       "<Figure size 648x432 with 1 Axes>"
      ]
     },
     "metadata": {
      "needs_background": "light"
     },
     "output_type": "display_data"
    }
   ],
   "source": [
    "matplotlib.pyplot.figure(figsize=(9, 6))\n",
    "g = seaborn.boxplot(data=expression.iloc[:, 1:1000], palette='tab10', showfliers=False)\n",
    "g.set(xticklabels=[])\n",
    "g.tick_params(bottom=False)\n",
    "g.set(xlabel='Samples', ylabel='log2 Expression')\n",
    "matplotlib.pyplot.show()"
   ]
  },
  {
   "cell_type": "markdown",
   "id": "10c1060a",
   "metadata": {},
   "source": [
    "# 2. quantile normalization"
   ]
  },
  {
   "cell_type": "code",
   "execution_count": 11,
   "id": "0f215a2e",
   "metadata": {},
   "outputs": [],
   "source": [
    "def quantile_normalization(df):\n",
    "    \n",
    "    \"Quantile normalization consists on sorting, averaging and re-ordering.\"\n",
    "    \"For more information: https://cmdlinetips.com/2020/06/computing-quantile-normalization-in-python/\"\n",
    "  \n",
    "    # step 1/3: sorting sample values\n",
    "    df_sorted = pandas.DataFrame(numpy.sort(df.values, axis=0), index=df.index, columns=df.columns)\n",
    "    # step 2/3: averaging rank values across samples\n",
    "    df_mean = df_sorted.mean(axis=1)\n",
    "    df_mean.index = numpy.arange(1, len(df_mean) + 1)\n",
    "    # step 3/3: re-ordering samples\n",
    "    df.rank(method=\"min\").astype(int)\n",
    "    df_qn = df.rank(method=\"min\").stack().astype(int).map(df_mean).unstack()\n",
    "\n",
    "    return df_qn"
   ]
  },
  {
   "cell_type": "code",
   "execution_count": 12,
   "id": "99b2b85e",
   "metadata": {},
   "outputs": [
    {
     "name": "stdout",
     "output_type": "stream",
     "text": [
      "CPU times: user 3.91 s, sys: 729 ms, total: 4.64 s\n",
      "Wall time: 4.71 s\n"
     ]
    }
   ],
   "source": [
    "%%time\n",
    "expression_qn = quantile_normalization(expression)"
   ]
  },
  {
   "cell_type": "code",
   "execution_count": 13,
   "id": "3effb07b",
   "metadata": {},
   "outputs": [
    {
     "name": "stderr",
     "output_type": "stream",
     "text": [
      "findfont: Font family ['FreeSans'] not found. Falling back to DejaVu Sans.\n"
     ]
    },
    {
     "data": {
      "image/png": "[encoded data removed]",
      "text/plain": [
       "<Figure size 648x432 with 1 Axes>"
      ]
     },
     "metadata": {
      "needs_background": "light"
     },
     "output_type": "display_data"
    }
   ],
   "source": [
    "matplotlib.pyplot.figure(figsize=(9, 6))\n",
    "g = seaborn.boxplot(data=expression_qn.iloc[:, 1:100], palette='tab10')\n",
    "g.set(xticklabels=[])\n",
    "g.tick_params(bottom=False)\n",
    "g.set(xlabel='Samples', ylabel='log2 Expression', title='quantile normalized')\n",
    "matplotlib.pyplot.show()"
   ]
  },
  {
   "cell_type": "code",
   "execution_count": 14,
   "id": "9d42edfd",
   "metadata": {},
   "outputs": [
    {
     "data": {
      "image/png": "[encoded data removed]",
      "text/plain": [
       "<Figure size 648x432 with 1 Axes>"
      ]
     },
     "metadata": {
      "needs_background": "light"
     },
     "output_type": "display_data"
    }
   ],
   "source": [
    "matplotlib.pyplot.figure(figsize=(9, 6))\n",
    "g = seaborn.boxplot(data=expression_qn.iloc[:, 1:1000], palette='tab10', showfliers=False)\n",
    "g.set(xticklabels=[])\n",
    "g.tick_params(bottom=False)\n",
    "g.set(xlabel='Samples', ylabel='log2 Expression')\n",
    "matplotlib.pyplot.show()"
   ]
  },
  {
   "cell_type": "code",
   "execution_count": 15,
   "id": "5bc8ac5e",
   "metadata": {},
   "outputs": [
    {
     "data": {
      "text/html": [
       "<div>\n",
       "<style scoped>\n",
       "    .dataframe tbody tr th:only-of-type {\n",
       "        vertical-align: middle;\n",
       "    }\n",
       "\n",
       "    .dataframe tbody tr th {\n",
       "        vertical-align: top;\n",
       "    }\n",
       "\n",
       "    .dataframe thead th {\n",
       "        text-align: right;\n",
       "    }\n",
       "</style>\n",
       "<table border=\"1\" class=\"dataframe\">\n",
       "  <thead>\n",
       "    <tr style=\"text-align: right;\">\n",
       "      <th></th>\n",
       "      <th>100</th>\n",
       "      <th>1000</th>\n",
       "      <th>10000</th>\n",
       "      <th>10005</th>\n",
       "      <th>10006</th>\n",
       "      <th>10007</th>\n",
       "      <th>10010</th>\n",
       "      <th>10013</th>\n",
       "      <th>10015</th>\n",
       "      <th>10019</th>\n",
       "      <th>...</th>\n",
       "      <th>9978</th>\n",
       "      <th>998</th>\n",
       "      <th>9984</th>\n",
       "      <th>9987</th>\n",
       "      <th>9988</th>\n",
       "      <th>9989</th>\n",
       "      <th>9990</th>\n",
       "      <th>9991</th>\n",
       "      <th>9993</th>\n",
       "      <th>9994</th>\n",
       "    </tr>\n",
       "  </thead>\n",
       "  <tbody>\n",
       "    <tr>\n",
       "      <th>GSM752709.cel</th>\n",
       "      <td>6.674178</td>\n",
       "      <td>9.253471</td>\n",
       "      <td>4.348688</td>\n",
       "      <td>6.547967</td>\n",
       "      <td>8.226402</td>\n",
       "      <td>7.877847</td>\n",
       "      <td>5.749067</td>\n",
       "      <td>6.206224</td>\n",
       "      <td>10.636120</td>\n",
       "      <td>9.778866</td>\n",
       "      <td>...</td>\n",
       "      <td>10.163430</td>\n",
       "      <td>11.088139</td>\n",
       "      <td>8.392577</td>\n",
       "      <td>10.538061</td>\n",
       "      <td>7.682210</td>\n",
       "      <td>9.836996</td>\n",
       "      <td>5.061649</td>\n",
       "      <td>6.168413</td>\n",
       "      <td>6.018051</td>\n",
       "      <td>6.700115</td>\n",
       "    </tr>\n",
       "    <tr>\n",
       "      <th>GSM752710.cel</th>\n",
       "      <td>6.962708</td>\n",
       "      <td>9.450826</td>\n",
       "      <td>4.065701</td>\n",
       "      <td>6.769329</td>\n",
       "      <td>8.032836</td>\n",
       "      <td>7.895058</td>\n",
       "      <td>5.468747</td>\n",
       "      <td>6.288019</td>\n",
       "      <td>10.499423</td>\n",
       "      <td>9.397884</td>\n",
       "      <td>...</td>\n",
       "      <td>10.099152</td>\n",
       "      <td>11.525933</td>\n",
       "      <td>8.771970</td>\n",
       "      <td>10.807247</td>\n",
       "      <td>7.391308</td>\n",
       "      <td>9.823300</td>\n",
       "      <td>4.774275</td>\n",
       "      <td>5.997441</td>\n",
       "      <td>5.814616</td>\n",
       "      <td>6.052927</td>\n",
       "    </tr>\n",
       "    <tr>\n",
       "      <th>GSM752711.cel</th>\n",
       "      <td>6.274973</td>\n",
       "      <td>9.358252</td>\n",
       "      <td>4.198858</td>\n",
       "      <td>6.382631</td>\n",
       "      <td>8.411676</td>\n",
       "      <td>7.915058</td>\n",
       "      <td>6.250226</td>\n",
       "      <td>5.814616</td>\n",
       "      <td>10.653945</td>\n",
       "      <td>9.897394</td>\n",
       "      <td>...</td>\n",
       "      <td>10.110796</td>\n",
       "      <td>11.266447</td>\n",
       "      <td>8.381983</td>\n",
       "      <td>10.480788</td>\n",
       "      <td>7.975027</td>\n",
       "      <td>9.895337</td>\n",
       "      <td>4.552457</td>\n",
       "      <td>6.131025</td>\n",
       "      <td>6.048658</td>\n",
       "      <td>6.539920</td>\n",
       "    </tr>\n",
       "    <tr>\n",
       "      <th>GSM752712.cel</th>\n",
       "      <td>6.483298</td>\n",
       "      <td>9.347803</td>\n",
       "      <td>4.587900</td>\n",
       "      <td>6.334080</td>\n",
       "      <td>8.095503</td>\n",
       "      <td>8.000321</td>\n",
       "      <td>5.698585</td>\n",
       "      <td>5.916943</td>\n",
       "      <td>10.664650</td>\n",
       "      <td>9.821316</td>\n",
       "      <td>...</td>\n",
       "      <td>10.108416</td>\n",
       "      <td>11.124328</td>\n",
       "      <td>8.410712</td>\n",
       "      <td>10.373180</td>\n",
       "      <td>7.771491</td>\n",
       "      <td>9.835031</td>\n",
       "      <td>5.103788</td>\n",
       "      <td>6.311302</td>\n",
       "      <td>5.820957</td>\n",
       "      <td>6.340377</td>\n",
       "    </tr>\n",
       "    <tr>\n",
       "      <th>GSM752713.cel</th>\n",
       "      <td>7.144404</td>\n",
       "      <td>10.134623</td>\n",
       "      <td>4.490600</td>\n",
       "      <td>6.621219</td>\n",
       "      <td>8.016995</td>\n",
       "      <td>7.993288</td>\n",
       "      <td>5.666206</td>\n",
       "      <td>5.893772</td>\n",
       "      <td>10.632673</td>\n",
       "      <td>9.643835</td>\n",
       "      <td>...</td>\n",
       "      <td>10.120252</td>\n",
       "      <td>9.938836</td>\n",
       "      <td>8.628687</td>\n",
       "      <td>10.437714</td>\n",
       "      <td>7.318389</td>\n",
       "      <td>9.726615</td>\n",
       "      <td>4.523678</td>\n",
       "      <td>5.617235</td>\n",
       "      <td>6.151873</td>\n",
       "      <td>6.190025</td>\n",
       "    </tr>\n",
       "  </tbody>\n",
       "</table>\n",
       "<p>5 rows × 4998 columns</p>\n",
       "</div>"
      ],
      "text/plain": [
       "                  100        1000      10000     10005     10006     10007  \\\n",
       "GSM752709.cel  6.674178   9.253471  4.348688  6.547967  8.226402  7.877847   \n",
       "GSM752710.cel  6.962708   9.450826  4.065701  6.769329  8.032836  7.895058   \n",
       "GSM752711.cel  6.274973   9.358252  4.198858  6.382631  8.411676  7.915058   \n",
       "GSM752712.cel  6.483298   9.347803  4.587900  6.334080  8.095503  8.000321   \n",
       "GSM752713.cel  7.144404  10.134623  4.490600  6.621219  8.016995  7.993288   \n",
       "\n",
       "                  10010     10013      10015     10019  ...      9978   \\\n",
       "GSM752709.cel  5.749067  6.206224  10.636120  9.778866  ...  10.163430   \n",
       "GSM752710.cel  5.468747  6.288019  10.499423  9.397884  ...  10.099152   \n",
       "GSM752711.cel  6.250226  5.814616  10.653945  9.897394  ...  10.110796   \n",
       "GSM752712.cel  5.698585  5.916943  10.664650  9.821316  ...  10.108416   \n",
       "GSM752713.cel  5.666206  5.893772  10.632673  9.643835  ...  10.120252   \n",
       "\n",
       "                   998       9984       9987      9988      9989      9990   \\\n",
       "GSM752709.cel  11.088139  8.392577  10.538061  7.682210  9.836996  5.061649   \n",
       "GSM752710.cel  11.525933  8.771970  10.807247  7.391308  9.823300  4.774275   \n",
       "GSM752711.cel  11.266447  8.381983  10.480788  7.975027  9.895337  4.552457   \n",
       "GSM752712.cel  11.124328  8.410712  10.373180  7.771491  9.835031  5.103788   \n",
       "GSM752713.cel   9.938836  8.628687  10.437714  7.318389  9.726615  4.523678   \n",
       "\n",
       "                  9991      9993      9994   \n",
       "GSM752709.cel  6.168413  6.018051  6.700115  \n",
       "GSM752710.cel  5.997441  5.814616  6.052927  \n",
       "GSM752711.cel  6.131025  6.048658  6.539920  \n",
       "GSM752712.cel  6.311302  5.820957  6.340377  \n",
       "GSM752713.cel  5.617235  6.151873  6.190025  \n",
       "\n",
       "[5 rows x 4998 columns]"
      ]
     },
     "execution_count": 15,
     "metadata": {},
     "output_type": "execute_result"
    }
   ],
   "source": [
    "transpose_expression_qn = expression_qn.transpose()\n",
    "transpose_expression_qn.head()"
   ]
  },
  {
   "cell_type": "markdown",
   "id": "3136bd32",
   "metadata": {},
   "source": [
    "# 3. intersect with model genes"
   ]
  },
  {
   "cell_type": "code",
   "execution_count": 18,
   "id": "1690f805",
   "metadata": {},
   "outputs": [],
   "source": [
    "%%time\n",
    "model = cobra.io.load_matlab_model(model_file)"
   ]
  },
  {
   "cell_type": "code",
   "execution_count": 20,
   "id": "1ed26982",
   "metadata": {},
   "outputs": [
    {
     "name": "stdout",
     "output_type": "stream",
     "text": [
      "['26.1', '314.1', '8639.1', '314.2', '1591.1', '1594.1', '10993.1', '6818.1', '89874.1', '3945.1']\n"
     ]
    }
   ],
   "source": [
    "model_genes = [gene.id for gene in model.genes]\n",
    "print(model_genes[:10])"
   ]
  },
  {
   "cell_type": "code",
   "execution_count": null,
   "id": "c6531fed",
   "metadata": {},
   "outputs": [],
   "source": []
  },
  {
   "cell_type": "code",
   "execution_count": null,
   "id": "dd2b938a",
   "metadata": {},
   "outputs": [],
   "source": []
  },
  {
   "cell_type": "code",
   "execution_count": null,
   "id": "516a14ae",
   "metadata": {},
   "outputs": [],
   "source": []
  },
  {
   "cell_type": "markdown",
   "id": "c207505e",
   "metadata": {},
   "source": [
    "# 4. define flux change rules"
   ]
  },
  {
   "cell_type": "code",
   "execution_count": null,
   "id": "fddf44bc",
   "metadata": {},
   "outputs": [],
   "source": []
  },
  {
   "cell_type": "code",
   "execution_count": null,
   "id": "fcdad407",
   "metadata": {},
   "outputs": [],
   "source": []
  },
  {
   "cell_type": "code",
   "execution_count": null,
   "id": "413513f3",
   "metadata": {},
   "outputs": [],
   "source": []
  },
  {
   "cell_type": "code",
   "execution_count": null,
   "id": "161ed544",
   "metadata": {},
   "outputs": [],
   "source": []
  },
  {
   "cell_type": "code",
   "execution_count": null,
   "id": "3e772043",
   "metadata": {},
   "outputs": [],
   "source": []
  },
  {
   "cell_type": "code",
   "execution_count": null,
   "id": "d01b2e1e",
   "metadata": {},
   "outputs": [],
   "source": []
  },
  {
   "cell_type": "code",
   "execution_count": null,
   "id": "2b3d8f07",
   "metadata": {},
   "outputs": [],
   "source": []
  }
 ],
 "metadata": {
  "kernelspec": {
   "display_name": "Python 3",
   "language": "python",
   "name": "python3"
  },
  "language_info": {
   "codemirror_mode": {
    "name": "ipython",
    "version": 3
   },
   "file_extension": ".py",
   "mimetype": "text/x-python",
   "name": "python",
   "nbconvert_exporter": "python",
   "pygments_lexer": "ipython3",
   "version": "3.8.10"
  }
 },
 "nbformat": 4,
 "nbformat_minor": 5
}
