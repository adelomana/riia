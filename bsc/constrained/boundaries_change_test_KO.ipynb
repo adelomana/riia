{
 "cells": [
  {
   "cell_type": "code",
   "execution_count": 1,
   "id": "002f2b30",
   "metadata": {},
   "outputs": [],
   "source": [
    "import cobra"
   ]
  },
  {
   "cell_type": "code",
   "execution_count": 2,
   "id": "e2ba8f37",
   "metadata": {},
   "outputs": [],
   "source": [
    "import numpy, pandas, pickle"
   ]
  },
  {
   "cell_type": "markdown",
   "id": "9078420d",
   "metadata": {},
   "source": [
    "# 0. user-defined variables"
   ]
  },
  {
   "cell_type": "code",
   "execution_count": 4,
   "id": "df403963",
   "metadata": {},
   "outputs": [],
   "source": [
    "model_file = '/Users/adrian/projects/riia/data/model/Recon3DModel_301.mat'\n",
    "results_file = '/Users/adrian/projects/riia/results/manual_ko.pickle'\n",
    "threads = 8"
   ]
  },
  {
   "cell_type": "code",
   "execution_count": 5,
   "id": "b9befa94",
   "metadata": {},
   "outputs": [
    {
     "data": {
      "text/html": [
       "\n",
       "<table>\n",
       "  <thead>\n",
       "    <tr>\n",
       "      <td><strong>Attribute</strong></td>\n",
       "      <td><strong>Description</strong></td>\n",
       "      <td><strong>Value</strong></td>\n",
       "    </tr>\n",
       "  </thead>\n",
       "  <tbody>\n",
       "    <tr>\n",
       "      <td><pre>solver</pre></td>\n",
       "      <td>Mathematical optimization solver</td>\n",
       "      <td>glpk</td>\n",
       "    </tr>\n",
       "    <tr>\n",
       "        <td><pre>tolerance</pre></td>\n",
       "        <td>General solver tolerance (feasibility, integrality, etc.)</td>\n",
       "        <td>1e-07</td>\n",
       "    </tr>\n",
       "    <tr>\n",
       "        <td><pre>lower_bound</pre></td>\n",
       "        <td>Default reaction lower bound</td>\n",
       "        <td>-1000.0</td>\n",
       "    </tr>\n",
       "    <tr>\n",
       "        <td><pre>upper_bound</pre></td>\n",
       "        <td>Default reaction upper bound</td>\n",
       "        <td>1000.0</td>\n",
       "    </tr>\n",
       "    <tr>\n",
       "        <td><pre>processes</pre></td>\n",
       "        <td>Number of parallel processes</td>\n",
       "        <td>8</td>\n",
       "    </tr>\n",
       "    <tr>\n",
       "        <td><pre>cache_directory</pre></td>\n",
       "        <td>Path for the model cache</td>\n",
       "        <td>/Users/adrian/Library/Caches/cobrapy</td>\n",
       "    </tr>\n",
       "    <tr>\n",
       "        <td><pre>max_cache_size</pre></td>\n",
       "        <td>Maximum cache size in bytes</td>\n",
       "        <td>104857600</td>\n",
       "    </tr>\n",
       "    <tr>\n",
       "        <td><pre>cache_expiration</pre></td>\n",
       "        <td>Model cache expiration time in seconds (if any)</td>\n",
       "        <td>None</td>\n",
       "    </tr>\n",
       "  </tbody>\n",
       "</table>\n"
      ],
      "text/plain": [
       "\n",
       "solver: glpk\n",
       "tolerance: 1e-07\n",
       "lower_bound: -1000.0\n",
       "upper_bound: 1000.0\n",
       "processes: 8\n",
       "cache_directory: /Users/adrian/Library/Caches/cobrapy\n",
       "max_cache_size: 104857600\n",
       "cache_expiration: None"
      ]
     },
     "execution_count": 5,
     "metadata": {},
     "output_type": "execute_result"
    }
   ],
   "source": [
    "cobra_config = cobra.Configuration()\n",
    "cobra_config.processes = threads\n",
    "cobra.Configuration()"
   ]
  },
  {
   "cell_type": "markdown",
   "id": "2e616372",
   "metadata": {},
   "source": [
    "# 1. read model"
   ]
  },
  {
   "cell_type": "code",
   "execution_count": 6,
   "id": "fb04da84",
   "metadata": {},
   "outputs": [
    {
     "data": {
      "text/plain": [
       "755.0032155506631"
      ]
     },
     "execution_count": 6,
     "metadata": {},
     "output_type": "execute_result"
    }
   ],
   "source": [
    "model = cobra.io.load_matlab_model(model_file)\n",
    "model.optimize()\n",
    "model.objective.value"
   ]
  },
  {
   "cell_type": "markdown",
   "id": "adcfbf45",
   "metadata": {},
   "source": [
    "# 2. running single KO first"
   ]
  },
  {
   "cell_type": "code",
   "execution_count": 7,
   "id": "7a58b342",
   "metadata": {},
   "outputs": [
    {
     "name": "stdout",
     "output_type": "stream",
     "text": [
      "2248\n",
      "CPU times: user 1.43 s, sys: 307 ms, total: 1.73 s\n",
      "Wall time: 16.6 s\n"
     ]
    }
   ],
   "source": [
    "%%time\n",
    "print(len(model.genes))\n",
    "single_ko_results = cobra.flux_analysis.single_gene_deletion(model, model.genes)"
   ]
  },
  {
   "cell_type": "code",
   "execution_count": 8,
   "id": "ed6926cb",
   "metadata": {},
   "outputs": [
    {
     "name": "stdout",
     "output_type": "stream",
     "text": [
      "(2248, 3)\n",
      "0.0 755.0032155506635\n"
     ]
    },
    {
     "data": {
      "text/html": [
       "<div>\n",
       "<style scoped>\n",
       "    .dataframe tbody tr th:only-of-type {\n",
       "        vertical-align: middle;\n",
       "    }\n",
       "\n",
       "    .dataframe tbody tr th {\n",
       "        vertical-align: top;\n",
       "    }\n",
       "\n",
       "    .dataframe thead th {\n",
       "        text-align: right;\n",
       "    }\n",
       "</style>\n",
       "<table border=\"1\" class=\"dataframe\">\n",
       "  <thead>\n",
       "    <tr style=\"text-align: right;\">\n",
       "      <th></th>\n",
       "      <th>ids</th>\n",
       "      <th>growth</th>\n",
       "      <th>status</th>\n",
       "    </tr>\n",
       "  </thead>\n",
       "  <tbody>\n",
       "    <tr>\n",
       "      <th>1751</th>\n",
       "      <td>{54675.1}</td>\n",
       "      <td>0.000000</td>\n",
       "      <td>optimal</td>\n",
       "    </tr>\n",
       "    <tr>\n",
       "      <th>2022</th>\n",
       "      <td>{1468.1}</td>\n",
       "      <td>663.411530</td>\n",
       "      <td>optimal</td>\n",
       "    </tr>\n",
       "    <tr>\n",
       "      <th>582</th>\n",
       "      <td>{8802.1}</td>\n",
       "      <td>674.472254</td>\n",
       "      <td>optimal</td>\n",
       "    </tr>\n",
       "    <tr>\n",
       "      <th>1269</th>\n",
       "      <td>{10632.1}</td>\n",
       "      <td>714.843470</td>\n",
       "      <td>optimal</td>\n",
       "    </tr>\n",
       "    <tr>\n",
       "      <th>1450</th>\n",
       "      <td>{27109.1}</td>\n",
       "      <td>714.843470</td>\n",
       "      <td>optimal</td>\n",
       "    </tr>\n",
       "    <tr>\n",
       "      <th>1318</th>\n",
       "      <td>{539.1}</td>\n",
       "      <td>714.843470</td>\n",
       "      <td>optimal</td>\n",
       "    </tr>\n",
       "    <tr>\n",
       "      <th>875</th>\n",
       "      <td>{521.1}</td>\n",
       "      <td>714.843470</td>\n",
       "      <td>optimal</td>\n",
       "    </tr>\n",
       "    <tr>\n",
       "      <th>433</th>\n",
       "      <td>{267020.1}</td>\n",
       "      <td>714.843470</td>\n",
       "      <td>optimal</td>\n",
       "    </tr>\n",
       "    <tr>\n",
       "      <th>1422</th>\n",
       "      <td>{4905.1}</td>\n",
       "      <td>714.843470</td>\n",
       "      <td>optimal</td>\n",
       "    </tr>\n",
       "    <tr>\n",
       "      <th>1765</th>\n",
       "      <td>{8803.1}</td>\n",
       "      <td>714.843470</td>\n",
       "      <td>optimal</td>\n",
       "    </tr>\n",
       "  </tbody>\n",
       "</table>\n",
       "</div>"
      ],
      "text/plain": [
       "             ids      growth   status\n",
       "1751   {54675.1}    0.000000  optimal\n",
       "2022    {1468.1}  663.411530  optimal\n",
       "582     {8802.1}  674.472254  optimal\n",
       "1269   {10632.1}  714.843470  optimal\n",
       "1450   {27109.1}  714.843470  optimal\n",
       "1318     {539.1}  714.843470  optimal\n",
       "875      {521.1}  714.843470  optimal\n",
       "433   {267020.1}  714.843470  optimal\n",
       "1422    {4905.1}  714.843470  optimal\n",
       "1765    {8803.1}  714.843470  optimal"
      ]
     },
     "execution_count": 8,
     "metadata": {},
     "output_type": "execute_result"
    }
   ],
   "source": [
    "print(single_ko_results.shape)\n",
    "print(numpy.min(single_ko_results['growth']), numpy.max(single_ko_results['growth']))\n",
    "singledf = single_ko_results.sort_values(by=['growth'])\n",
    "singledf.head(10)"
   ]
  },
  {
   "cell_type": "code",
   "execution_count": 9,
   "id": "68e4ac28",
   "metadata": {},
   "outputs": [
    {
     "data": {
      "text/plain": [
       "193    755.003216\n",
       "Name: growth, dtype: float64"
      ]
     },
     "execution_count": 9,
     "metadata": {},
     "output_type": "execute_result"
    }
   ],
   "source": [
    "singledf[singledf['ids'] == set({'5836.1'})]['growth']"
   ]
  },
  {
   "cell_type": "code",
   "execution_count": 10,
   "id": "14c41923",
   "metadata": {},
   "outputs": [],
   "source": [
    "# goi = set({'5836.1'})\n",
    "# singledf[singledf['ids'] == goi]"
   ]
  },
  {
   "cell_type": "code",
   "execution_count": 11,
   "id": "e4f1119e",
   "metadata": {},
   "outputs": [],
   "source": [
    "# for reaction in model.reactions:\n",
    "#     possibilities = reaction.gene_reaction_rule.split('or')\n",
    "#     if len(possibilities) == 1:\n",
    "#         print(reaction.id)\n",
    "#         print(len(reaction.genes), reaction.genes)\n",
    "#         print(reaction.gene_reaction_rule, type(reaction.gene_reaction_rule))\n",
    "#         print()"
   ]
  },
  {
   "cell_type": "markdown",
   "id": "faca8deb",
   "metadata": {},
   "source": [
    "# 3. manual implementation of single KOs"
   ]
  },
  {
   "cell_type": "code",
   "execution_count": 12,
   "id": "690d4df1",
   "metadata": {},
   "outputs": [
    {
     "name": "stdout",
     "output_type": "stream",
     "text": [
      "CPU times: user 1min 59s, sys: 226 ms, total: 2min\n",
      "Wall time: 2min\n"
     ]
    }
   ],
   "source": [
    "%%time\n",
    "\n",
    "results = {}\n",
    "for working_gene in model.genes:\n",
    "    #print(working_gene)\n",
    "    \n",
    "    #! iterate reactions\n",
    "    with model as model:\n",
    "        for reaction in model.reactions:\n",
    "            local_reaction_genes = [gene.id for gene in reaction.genes]\n",
    "            \n",
    "            #! if the reaction contains the gene...\n",
    "            if working_gene.id in local_reaction_genes:\n",
    "                #print(local_reaction_genes)\n",
    "                possibilities = reaction.gene_reaction_rule.split('or')\n",
    "                #print(possibilities)\n",
    "                if possibilities == 1: #! the gene is in the reaction, therefore the minimum is 1, not 0\n",
    "                    reaction.bounds = (0, 0)\n",
    "                    \n",
    "        #! optimize\n",
    "        model.optimize()\n",
    "        #print(working_gene, model.objective.value)\n",
    "        results[working_gene] = model.objective.value"
   ]
  },
  {
   "cell_type": "code",
   "execution_count": 13,
   "id": "05053f20",
   "metadata": {},
   "outputs": [
    {
     "data": {
      "text/html": [
       "<div>\n",
       "<style scoped>\n",
       "    .dataframe tbody tr th:only-of-type {\n",
       "        vertical-align: middle;\n",
       "    }\n",
       "\n",
       "    .dataframe tbody tr th {\n",
       "        vertical-align: top;\n",
       "    }\n",
       "\n",
       "    .dataframe thead th {\n",
       "        text-align: right;\n",
       "    }\n",
       "</style>\n",
       "<table border=\"1\" class=\"dataframe\">\n",
       "  <thead>\n",
       "    <tr style=\"text-align: right;\">\n",
       "      <th></th>\n",
       "      <th>Objective value</th>\n",
       "    </tr>\n",
       "  </thead>\n",
       "  <tbody>\n",
       "    <tr>\n",
       "      <th>314.2</th>\n",
       "      <td>755.003216</td>\n",
       "    </tr>\n",
       "    <tr>\n",
       "      <th>51251.1</th>\n",
       "      <td>755.003216</td>\n",
       "    </tr>\n",
       "    <tr>\n",
       "      <th>100526794.1</th>\n",
       "      <td>755.003216</td>\n",
       "    </tr>\n",
       "    <tr>\n",
       "      <th>84618.1</th>\n",
       "      <td>755.003216</td>\n",
       "    </tr>\n",
       "    <tr>\n",
       "      <th>22978.1</th>\n",
       "      <td>755.003216</td>\n",
       "    </tr>\n",
       "    <tr>\n",
       "      <th>80347.1</th>\n",
       "      <td>755.003216</td>\n",
       "    </tr>\n",
       "    <tr>\n",
       "      <th>10587.1</th>\n",
       "      <td>755.003216</td>\n",
       "    </tr>\n",
       "    <tr>\n",
       "      <th>1727.1</th>\n",
       "      <td>755.003216</td>\n",
       "    </tr>\n",
       "    <tr>\n",
       "      <th>51700.1</th>\n",
       "      <td>755.003216</td>\n",
       "    </tr>\n",
       "    <tr>\n",
       "      <th>51706.1</th>\n",
       "      <td>755.003216</td>\n",
       "    </tr>\n",
       "  </tbody>\n",
       "</table>\n",
       "</div>"
      ],
      "text/plain": [
       "             Objective value\n",
       "314.2             755.003216\n",
       "51251.1           755.003216\n",
       "100526794.1       755.003216\n",
       "84618.1           755.003216\n",
       "22978.1           755.003216\n",
       "80347.1           755.003216\n",
       "10587.1           755.003216\n",
       "1727.1            755.003216\n",
       "51700.1           755.003216\n",
       "51706.1           755.003216"
      ]
     },
     "execution_count": 13,
     "metadata": {},
     "output_type": "execute_result"
    }
   ],
   "source": [
    "# convert results dictionary into pandas dataframe\n",
    "df = pandas.DataFrame.from_dict(results, columns=['Objective value'], orient='index')\n",
    "manualdf = df.sort_values(by=['Objective value'])\n",
    "manualdf.head(10)"
   ]
  },
  {
   "cell_type": "markdown",
   "id": "fc40c010",
   "metadata": {},
   "source": [
    "# 3. compare singleKO and manual results"
   ]
  },
  {
   "cell_type": "code",
   "execution_count": 19,
   "id": "11b5abc4",
   "metadata": {},
   "outputs": [],
   "source": [
    "for gene in manualdf.index:\n",
    "    #print(gene)\n",
    "    \n",
    "    # single KO values\n",
    "    #gene='54675.1'\n",
    "    single_KO_value = singledf[singledf['ids'] == set({'{}'.format(gene)})]['growth'].values[0]\n",
    "    #print(single_KO_value)\n",
    "    \n",
    "    # manual KO values\n",
    "    #print(manualdf.loc[gene]['Objective value'])\n",
    "    manual_KO_value = manualdf.loc[gene]['Objective value']\n",
    "    \n",
    "    # difference\n",
    "    diff = single_KO_value - manual_KO_value\n",
    "    \n",
    "    # if difference larger than threshold\n",
    "    if diff > 1e-12: # 1e-13 will give you some prints\n",
    "        print(gene)\n",
    "        print(single_KO_value)\n",
    "        print(manual_KO_value)\n",
    "        print(diff)\n",
    "        print()\n",
    "    \n",
    "    #print()"
   ]
  },
  {
   "cell_type": "code",
   "execution_count": null,
   "id": "f2e1ef5c",
   "metadata": {},
   "outputs": [],
   "source": []
  }
 ],
 "metadata": {
  "kernelspec": {
   "display_name": "Python 3",
   "language": "python",
   "name": "python3"
  },
  "language_info": {
   "codemirror_mode": {
    "name": "ipython",
    "version": 3
   },
   "file_extension": ".py",
   "mimetype": "text/x-python",
   "name": "python",
   "nbconvert_exporter": "python",
   "pygments_lexer": "ipython3",
   "version": "3.8.10"
  }
 },
 "nbformat": 4,
 "nbformat_minor": 5
}
