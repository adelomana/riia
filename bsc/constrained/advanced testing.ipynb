{
 "cells": [
  {
   "cell_type": "code",
   "execution_count": null,
   "id": "5aae4106",
   "metadata": {},
   "outputs": [],
   "source": [
    "# get the expression data, convert to gene ids, intersect, generate final df. \n",
    "# for each expression, constrain new boundaries.\n",
    "# then for each new condition, compute fluxes, single and double ko. Then also geometric and FVA."
   ]
  }
 ],
 "metadata": {
  "kernelspec": {
   "display_name": "Python 3",
   "language": "python",
   "name": "python3"
  },
  "language_info": {
   "codemirror_mode": {
    "name": "ipython",
    "version": 3
   },
   "file_extension": ".py",
   "mimetype": "text/x-python",
   "name": "python",
   "nbconvert_exporter": "python",
   "pygments_lexer": "ipython3",
   "version": "3.8.10"
  }
 },
 "nbformat": 4,
 "nbformat_minor": 5
}
