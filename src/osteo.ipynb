{
 "cells": [
  {
   "cell_type": "code",
   "execution_count": 2,
   "id": "attractive-accommodation",
   "metadata": {},
   "outputs": [
    {
     "name": "stderr",
     "output_type": "stream",
     "text": [
      "drangajokull 2021-02-26 15:22:32 INFO | riia version 0.0.0\n"
     ]
    }
   ],
   "source": [
    "import riia"
   ]
  },
  {
   "cell_type": "code",
   "execution_count": null,
   "id": "loose-cedar",
   "metadata": {},
   "outputs": [],
   "source": [
    "# load the data\n"
   ]
  }
 ],
 "metadata": {
  "kernelspec": {
   "display_name": "Python 3",
   "language": "python",
   "name": "python3"
  },
  "language_info": {
   "codemirror_mode": {
    "name": "ipython",
    "version": 3
   },
   "file_extension": ".py",
   "mimetype": "text/x-python",
   "name": "python",
   "nbconvert_exporter": "python",
   "pygments_lexer": "ipython3",
   "version": "3.7.9"
  }
 },
 "nbformat": 4,
 "nbformat_minor": 5
}
